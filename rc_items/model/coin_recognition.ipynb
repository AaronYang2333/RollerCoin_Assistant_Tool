{
 "cells": [
  {
   "cell_type": "code",
   "execution_count": 1,
   "metadata": {},
   "outputs": [
    {
     "name": "stdout",
     "output_type": "stream",
     "text": [
      "2.0.0\n",
      "sys.version_info(major=3, minor=7, micro=5, releaselevel='final', serial=0)\n",
      "numpy 1.16.4\n",
      "pandas 0.25.3\n",
      "sklearn 0.22\n",
      "tensorflow 2.0.0\n",
      "tensorflow_core.keras 2.2.4-tf\n",
      "Training Images ->  1339\n",
      "Validation Images ->  10\n"
     ]
    }
   ],
   "source": [
    "import numpy as np\n",
    "import pandas as pd \n",
    "import os\n",
    "import matplotlib.pyplot as plt\n",
    "import sklearn\n",
    "import sys\n",
    "import tensorflow as tf\n",
    "import time\n",
    "import random\n",
    "import pathlib\n",
    "\n",
    "from tensorflow import keras\n",
    "\n",
    "print(tf.__version__)\n",
    "print(sys.version_info)\n",
    "for module in np, pd, sklearn, tf, keras:\n",
    "    print(module.__name__, module.__version__)\n",
    "\n",
    "\n",
    "training_path = pathlib.Path('./training')\n",
    "validation_path = pathlib.Path('./valid')\n",
    "\n",
    "train_image_paths = list(training_path.glob('*/*'))  \n",
    "valid_image_paths = list(validation_path.glob('*/*'))  \n",
    "\n",
    "train_image_paths = [str(path) for path in train_image_paths]\n",
    "valid_image_paths = [str(path) for path in valid_image_paths]\n",
    "\n",
    "random.shuffle(train_image_paths)\n",
    "random.shuffle(valid_image_paths)\n",
    "train_image_count = len(train_image_paths)\n",
    "valid_image_count = len(valid_image_paths)\n",
    "\n",
    "print(\"Training Images -> \", train_image_count)\n",
    "print(\"Validation Images -> \", valid_image_count)"
   ]
  },
  {
   "cell_type": "code",
   "execution_count": 2,
   "metadata": {},
   "outputs": [
    {
     "data": {
      "text/plain": [
       "['training\\\\tether\\\\eD71E8422D.png',\n",
       " 'training\\\\eos\\\\32DC6ceff1.png',\n",
       " 'training\\\\xml\\\\FC41B2dbA4 - 副本 (4).png',\n",
       " 'training\\\\litecoin\\\\a22FfEac3d - 副本 (8).png',\n",
       " 'training\\\\xml\\\\4929378bEd - 副本 (10).png']"
      ]
     },
     "execution_count": 2,
     "metadata": {},
     "output_type": "execute_result"
    }
   ],
   "source": [
    "train_image_paths[:5]"
   ]
  },
  {
   "cell_type": "code",
   "execution_count": 3,
   "metadata": {},
   "outputs": [
    {
     "data": {
      "text/plain": [
       "['valid\\\\eos\\\\coinflip_item_eos.png',\n",
       " 'valid\\\\binance\\\\coinflip_item_binance.png',\n",
       " 'valid\\\\tether\\\\coinflip_item_tether.png',\n",
       " 'valid\\\\rlt\\\\coinflip_item_rlt.png',\n",
       " 'valid\\\\litecoin\\\\coinflip_item_litecoin.png']"
      ]
     },
     "execution_count": 3,
     "metadata": {},
     "output_type": "execute_result"
    }
   ],
   "source": [
    "valid_image_paths[:5]"
   ]
  },
  {
   "cell_type": "code",
   "execution_count": 4,
   "metadata": {},
   "outputs": [
    {
     "data": {
      "text/plain": [
       "['binance',\n",
       " 'btc',\n",
       " 'eos',\n",
       " 'eth',\n",
       " 'litecoin',\n",
       " 'monero',\n",
       " 'rlt',\n",
       " 'tether',\n",
       " 'xml',\n",
       " 'xrp']"
      ]
     },
     "execution_count": 4,
     "metadata": {},
     "output_type": "execute_result"
    }
   ],
   "source": [
    "label_names = sorted(item.name for item in training_path.glob('*/') if item.is_dir())\n",
    "label_names"
   ]
  },
  {
   "cell_type": "code",
   "execution_count": 5,
   "metadata": {},
   "outputs": [
    {
     "name": "stdout",
     "output_type": "stream",
     "text": [
      "training\\tether\\eD71E8422D.png  --->   tether\n",
      "training\\eos\\32DC6ceff1.png  --->   eos\n",
      "training\\xml\\FC41B2dbA4 - 副本 (4).png  --->   xml\n",
      "training\\litecoin\\a22FfEac3d - 副本 (8).png  --->   litecoin\n",
      "training\\xml\\4929378bEd - 副本 (10).png  --->   xml\n"
     ]
    }
   ],
   "source": [
    "training_image_labels = [pathlib.Path(path).parent.name for path in train_image_paths]\n",
    "for image, label in zip(train_image_paths[:5], training_image_labels[:5]):\n",
    "    print(image, ' --->  ', label)"
   ]
  },
  {
   "cell_type": "code",
   "execution_count": 6,
   "metadata": {},
   "outputs": [],
   "source": [
    "train_labels_info = []\n",
    "for image_path, label in zip(train_image_paths, training_image_labels):\n",
    "    train_labels_info.append((image_path, label))"
   ]
  },
  {
   "cell_type": "code",
   "execution_count": 7,
   "metadata": {},
   "outputs": [
    {
     "name": "stdout",
     "output_type": "stream",
     "text": [
      "[('training\\\\tether\\\\eD71E8422D.png', 'tether'),\n",
      " ('training\\\\eos\\\\32DC6ceff1.png', 'eos'),\n",
      " ('training\\\\xml\\\\FC41B2dbA4 - 副本 (4).png', 'xml'),\n",
      " ('training\\\\litecoin\\\\a22FfEac3d - 副本 (8).png', 'litecoin'),\n",
      " ('training\\\\xml\\\\4929378bEd - 副本 (10).png', 'xml')]\n"
     ]
    }
   ],
   "source": [
    "import pprint\n",
    "pprint.pprint(train_labels_info[:5])"
   ]
  },
  {
   "cell_type": "code",
   "execution_count": 8,
   "metadata": {},
   "outputs": [
    {
     "name": "stdout",
     "output_type": "stream",
     "text": [
      "valid\\eos\\coinflip_item_eos.png  --->   eos\n",
      "valid\\binance\\coinflip_item_binance.png  --->   binance\n",
      "valid\\tether\\coinflip_item_tether.png  --->   tether\n",
      "valid\\rlt\\coinflip_item_rlt.png  --->   rlt\n",
      "valid\\litecoin\\coinflip_item_litecoin.png  --->   litecoin\n"
     ]
    }
   ],
   "source": [
    "valid_image_labels = [pathlib.Path(path).parent.name for path in valid_image_paths]\n",
    "for image, label in zip(valid_image_paths[:5], valid_image_labels[:5]):\n",
    "    print(image, ' --->  ', label)"
   ]
  },
  {
   "cell_type": "code",
   "execution_count": 9,
   "metadata": {},
   "outputs": [],
   "source": [
    "valid_labels_info = []\n",
    "for image_path, label in zip(valid_image_paths, valid_image_labels):\n",
    "    valid_labels_info.append((image_path, label))"
   ]
  },
  {
   "cell_type": "code",
   "execution_count": 10,
   "metadata": {},
   "outputs": [
    {
     "name": "stdout",
     "output_type": "stream",
     "text": [
      "[('valid\\\\eos\\\\coinflip_item_eos.png', 'eos'),\n",
      " ('valid\\\\binance\\\\coinflip_item_binance.png', 'binance'),\n",
      " ('valid\\\\tether\\\\coinflip_item_tether.png', 'tether'),\n",
      " ('valid\\\\rlt\\\\coinflip_item_rlt.png', 'rlt'),\n",
      " ('valid\\\\litecoin\\\\coinflip_item_litecoin.png', 'litecoin')]\n"
     ]
    }
   ],
   "source": [
    "pprint.pprint(valid_labels_info[:5])"
   ]
  },
  {
   "cell_type": "code",
   "execution_count": 11,
   "metadata": {},
   "outputs": [
    {
     "name": "stdout",
     "output_type": "stream",
     "text": [
      "                                    filepath     class\n",
      "0             training\\tether\\eD71E8422D.png    tether\n",
      "1                training\\eos\\32DC6ceff1.png       eos\n",
      "2       training\\xml\\FC41B2dbA4 - 副本 (4).png       xml\n",
      "3  training\\litecoin\\a22FfEac3d - 副本 (8).png  litecoin\n",
      "4      training\\xml\\4929378bEd - 副本 (10).png       xml\n",
      "                                    filepath     class\n",
      "0            valid\\eos\\coinflip_item_eos.png       eos\n",
      "1    valid\\binance\\coinflip_item_binance.png   binance\n",
      "2      valid\\tether\\coinflip_item_tether.png    tether\n",
      "3            valid\\rlt\\coinflip_item_rlt.png       rlt\n",
      "4  valid\\litecoin\\coinflip_item_litecoin.png  litecoin\n"
     ]
    }
   ],
   "source": [
    "train_df = pd.DataFrame(train_labels_info)\n",
    "valid_df = pd.DataFrame(valid_labels_info)\n",
    "\n",
    "train_df.columns = valid_df.columns = ['filepath', 'class']\n",
    "\n",
    "print(train_df.head())\n",
    "print(valid_df.head())"
   ]
  },
  {
   "cell_type": "code",
   "execution_count": 18,
   "metadata": {},
   "outputs": [
    {
     "name": "stdout",
     "output_type": "stream",
     "text": [
      "Found 1339 validated image filenames belonging to 10 classes.\n",
      "Found 10 validated image filenames belonging to 10 classes.\n"
     ]
    }
   ],
   "source": [
    "height = 139\n",
    "width = 128\n",
    "channels = 3\n",
    "batch_size = 10\n",
    "num_classes = 10\n",
    "\n",
    "train_datagen = keras.preprocessing.image.ImageDataGenerator(\n",
    "    #像素值 都除以255\n",
    "    rescale = 1./255,\n",
    "    # 图片左右位移  20%限度以内\n",
    "    width_shift_range = 0.2,\n",
    "    # 图片上下位移  20%限度以内\n",
    "    height_shift_range = 0.2,\n",
    "    # 图像剪切强度\n",
    "    shear_range = 0.2,\n",
    "    # 图像缩放强度\n",
    "    zoom_range = 0.2,\n",
    "    # 是否水平翻转\n",
    "    horizontal_flip = False,\n",
    "    # 放大缩小吼， 像素填充方式\n",
    "    fill_mode = 'nearest',\n",
    ")\n",
    "\n",
    "train_generator = train_datagen.flow_from_dataframe(train_df, directory = './',\n",
    "                                                    x_col = 'filepath',\n",
    "                                                    y_col = 'class',\n",
    "                                                    classes = label_names,\n",
    "                                                    target_size = (height, width),\n",
    "                                                    batch_size = batch_size,\n",
    "                                                    seed = 2333,\n",
    "                                                    shuffle = True,\n",
    "                                                    class_mode = \"categorical\")\n",
    "\n",
    "valid_datagen = keras.preprocessing.image.ImageDataGenerator(\n",
    "    rescale = 1./255,\n",
    ")\n",
    "valid_generator = valid_datagen.flow_from_dataframe(valid_df, directory = './',\n",
    "                                                    x_col = 'filepath',\n",
    "                                                    y_col = 'class',\n",
    "                                                    classes = label_names,\n",
    "                                                    target_size = (height, width),\n",
    "                                                    batch_size = batch_size,\n",
    "                                                    seed = 666,\n",
    "                                                    shuffle = True,\n",
    "                                                    class_mode = \"categorical\")\n"
   ]
  },
  {
   "cell_type": "code",
   "execution_count": 19,
   "metadata": {},
   "outputs": [
    {
     "name": "stdout",
     "output_type": "stream",
     "text": [
      "Training Generator Sample ->  1339\n",
      "Validation Generator Sample ->  10\n"
     ]
    }
   ],
   "source": [
    "train_num = train_generator.samples\n",
    "valid_num = valid_generator.samples\n",
    "\n",
    "print(\"Training Generator Sample -> \", train_num)\n",
    "print(\"Validation Generator Sample -> \", valid_num)"
   ]
  },
  {
   "cell_type": "code",
   "execution_count": 20,
   "metadata": {},
   "outputs": [
    {
     "name": "stdout",
     "output_type": "stream",
     "text": [
      "(10, 139, 128, 3) (10, 10)\n",
      "[[0. 1. 0. 0. 0. 0. 0. 0. 0. 0.]\n",
      " [0. 0. 0. 0. 1. 0. 0. 0. 0. 0.]\n",
      " [0. 0. 0. 0. 0. 0. 0. 0. 0. 1.]\n",
      " [0. 0. 0. 0. 0. 0. 1. 0. 0. 0.]\n",
      " [0. 0. 0. 0. 0. 0. 0. 1. 0. 0.]\n",
      " [0. 0. 0. 0. 0. 0. 1. 0. 0. 0.]\n",
      " [0. 0. 0. 0. 0. 0. 1. 0. 0. 0.]\n",
      " [0. 0. 0. 0. 0. 0. 0. 1. 0. 0.]\n",
      " [0. 0. 0. 0. 0. 0. 0. 1. 0. 0.]\n",
      " [0. 0. 0. 0. 0. 0. 1. 0. 0. 0.]]\n",
      "(10, 139, 128, 3) (10, 10)\n",
      "[[0. 0. 0. 0. 1. 0. 0. 0. 0. 0.]\n",
      " [0. 0. 0. 1. 0. 0. 0. 0. 0. 0.]\n",
      " [0. 0. 0. 0. 0. 0. 0. 0. 0. 1.]\n",
      " [0. 0. 0. 0. 0. 0. 0. 1. 0. 0.]\n",
      " [0. 0. 0. 0. 0. 0. 0. 0. 0. 1.]\n",
      " [0. 0. 0. 0. 0. 0. 1. 0. 0. 0.]\n",
      " [0. 0. 0. 0. 1. 0. 0. 0. 0. 0.]\n",
      " [0. 0. 0. 0. 0. 0. 0. 1. 0. 0.]\n",
      " [0. 1. 0. 0. 0. 0. 0. 0. 0. 0.]\n",
      " [0. 0. 0. 0. 0. 0. 0. 0. 0. 1.]]\n"
     ]
    }
   ],
   "source": [
    "for i in range(2):\n",
    "    x, y = train_generator.next()\n",
    "    print(x.shape, y.shape)\n",
    "    print(y)"
   ]
  },
  {
   "cell_type": "code",
   "execution_count": 21,
   "metadata": {},
   "outputs": [
    {
     "name": "stdout",
     "output_type": "stream",
     "text": [
      "Model: \"sequential_1\"\n",
      "_________________________________________________________________\n",
      "Layer (type)                 Output Shape              Param #   \n",
      "=================================================================\n",
      "conv2d_6 (Conv2D)            (None, 139, 128, 4)       112       \n",
      "_________________________________________________________________\n",
      "conv2d_7 (Conv2D)            (None, 139, 128, 4)       148       \n",
      "_________________________________________________________________\n",
      "max_pooling2d_3 (MaxPooling2 (None, 69, 64, 4)         0         \n",
      "_________________________________________________________________\n",
      "conv2d_8 (Conv2D)            (None, 69, 64, 8)         296       \n",
      "_________________________________________________________________\n",
      "conv2d_9 (Conv2D)            (None, 69, 64, 8)         584       \n",
      "_________________________________________________________________\n",
      "max_pooling2d_4 (MaxPooling2 (None, 34, 32, 8)         0         \n",
      "_________________________________________________________________\n",
      "conv2d_10 (Conv2D)           (None, 34, 32, 16)        1168      \n",
      "_________________________________________________________________\n",
      "conv2d_11 (Conv2D)           (None, 34, 32, 16)        2320      \n",
      "_________________________________________________________________\n",
      "max_pooling2d_5 (MaxPooling2 (None, 17, 16, 16)        0         \n",
      "_________________________________________________________________\n",
      "flatten_1 (Flatten)          (None, 4352)              0         \n",
      "_________________________________________________________________\n",
      "dense_2 (Dense)              (None, 32)                139296    \n",
      "_________________________________________________________________\n",
      "alpha_dropout_1 (AlphaDropou (None, 32)                0         \n",
      "_________________________________________________________________\n",
      "dense_3 (Dense)              (None, 10)                330       \n",
      "=================================================================\n",
      "Total params: 144,254\n",
      "Trainable params: 144,254\n",
      "Non-trainable params: 0\n",
      "_________________________________________________________________\n"
     ]
    }
   ],
   "source": [
    "model = keras.models.Sequential([\n",
    "     \n",
    "    keras.layers.Conv2D(filters=4, kernel_size = 3, padding='same',\n",
    "                       activation = 'selu', input_shape = [height, width, channels]),\n",
    "    keras.layers.Conv2D(filters=4, kernel_size = 3, \n",
    "                        padding='same', activation = 'selu'),\n",
    "    keras.layers.MaxPool2D(pool_size=2),\n",
    "    \n",
    "    keras.layers.Conv2D(filters=8, kernel_size = 3, \n",
    "                        padding='same', activation = 'selu'),\n",
    "    keras.layers.Conv2D(filters=8, kernel_size = 3, \n",
    "                        padding='same', activation = 'selu'),\n",
    "    keras.layers.MaxPool2D(pool_size=2),\n",
    "    \n",
    "    keras.layers.Conv2D(filters=16, kernel_size = 3, padding='same',\n",
    "                       activation = 'selu', input_shape = [height, width, channels]),\n",
    "    keras.layers.Conv2D(filters=16, kernel_size = 3, \n",
    "                        padding='same', activation = 'selu'),\n",
    "    keras.layers.MaxPool2D(pool_size=2),\n",
    "    \n",
    "    keras.layers.Flatten(),\n",
    "    keras.layers.Dense(32, activation = 'selu'),\n",
    "    keras.layers.AlphaDropout(rate=0.5),\n",
    "    \n",
    "    keras.layers.Dense(num_classes, activation = 'softmax')\n",
    "])\n",
    "\n",
    "model.compile(loss=\"categorical_crossentropy\",\n",
    "             optimizer = \"adam\", metrics = ['accuracy'])\n",
    "\n",
    "model.summary()"
   ]
  },
  {
   "cell_type": "code",
   "execution_count": 22,
   "metadata": {},
   "outputs": [],
   "source": [
    "logdir = './coin_recognition'\n",
    "if not os.path.exists(logdir):\n",
    "    os.mkdir(logdir)\n",
    "\n",
    "output_model_file = os.path.join(logdir, \"coin_recognition_model.h5\")\n",
    "\n",
    "callbacks = [\n",
    "    keras.callbacks.ModelCheckpoint(output_model_file, save_best_only=True),\n",
    "    keras.callbacks.EarlyStopping(patience=5, min_delta=1e-3)\n",
    "]"
   ]
  },
  {
   "cell_type": "code",
   "execution_count": 23,
   "metadata": {},
   "outputs": [
    {
     "name": "stdout",
     "output_type": "stream",
     "text": [
      "Epoch 1/100\n",
      "133/133 [==============================] - 9s 67ms/step - loss: 1.5665 - accuracy: 0.4560 - val_loss: 0.0814 - val_accuracy: 1.0000\n",
      "Epoch 2/100\n",
      "133/133 [==============================] - 10s 72ms/step - loss: 0.7132 - accuracy: 0.7351 - val_loss: 0.0213 - val_accuracy: 1.0000\n",
      "Epoch 3/100\n",
      "133/133 [==============================] - 9s 68ms/step - loss: 0.4556 - accuracy: 0.8345 - val_loss: 0.1138 - val_accuracy: 0.9000\n",
      "Epoch 4/100\n",
      "133/133 [==============================] - 9s 68ms/step - loss: 0.4182 - accuracy: 0.8382 - val_loss: 0.0336 - val_accuracy: 1.0000\n",
      "Epoch 5/100\n",
      "133/133 [==============================] - 9s 69ms/step - loss: 0.5159 - accuracy: 0.8239 - val_loss: 0.0026 - val_accuracy: 1.0000\n",
      "Epoch 6/100\n",
      "133/133 [==============================] - 9s 68ms/step - loss: 0.7094 - accuracy: 0.7502 - val_loss: 0.0167 - val_accuracy: 1.0000\n",
      "Epoch 7/100\n",
      "133/133 [==============================] - 9s 67ms/step - loss: 0.2460 - accuracy: 0.9142 - val_loss: 3.5305e-04 - val_accuracy: 1.0000\n",
      "Epoch 8/100\n",
      "133/133 [==============================] - 9s 69ms/step - loss: 0.1874 - accuracy: 0.9383 - val_loss: 3.4411e-04 - val_accuracy: 1.0000\n",
      "Epoch 9/100\n",
      "133/133 [==============================] - 9s 68ms/step - loss: 0.2689 - accuracy: 0.8977 - val_loss: 6.7264e-04 - val_accuracy: 1.0000\n",
      "Epoch 10/100\n",
      "133/133 [==============================] - 9s 68ms/step - loss: 0.2242 - accuracy: 0.9255 - val_loss: 0.0110 - val_accuracy: 1.0000\n",
      "Epoch 11/100\n",
      "133/133 [==============================] - 9s 66ms/step - loss: 0.3399 - accuracy: 0.8917 - val_loss: 0.0207 - val_accuracy: 1.0000\n",
      "Epoch 12/100\n",
      "133/133 [==============================] - 9s 66ms/step - loss: 1.1165 - accuracy: 0.6265 - val_loss: 0.1491 - val_accuracy: 1.0000\n",
      "Epoch 13/100\n",
      "133/133 [==============================] - 9s 68ms/step - loss: 0.4199 - accuracy: 0.8450 - val_loss: 0.0060 - val_accuracy: 1.0000\n",
      "Epoch 14/100\n",
      "133/133 [==============================] - 9s 66ms/step - loss: 0.2696 - accuracy: 0.9038 - val_loss: 5.3436e-04 - val_accuracy: 1.0000\n",
      "Epoch 15/100\n",
      "133/133 [==============================] - 9s 68ms/step - loss: 0.1971 - accuracy: 0.9352 - val_loss: 8.7341e-05 - val_accuracy: 1.0000\n",
      "Epoch 16/100\n",
      "133/133 [==============================] - 9s 67ms/step - loss: 0.1373 - accuracy: 0.9594 - val_loss: 3.3104e-05 - val_accuracy: 1.0000\n",
      "Epoch 17/100\n",
      "133/133 [==============================] - 9s 66ms/step - loss: 0.1694 - accuracy: 0.9428 - val_loss: 4.0724e-05 - val_accuracy: 1.0000\n",
      "Epoch 18/100\n",
      "133/133 [==============================] - 9s 67ms/step - loss: 0.5099 - accuracy: 0.8632 - val_loss: 0.0027 - val_accuracy: 1.0000\n",
      "Epoch 19/100\n",
      "133/133 [==============================] - 9s 67ms/step - loss: 0.5633 - accuracy: 0.8449 - val_loss: 0.0303 - val_accuracy: 1.0000\n",
      "Epoch 20/100\n",
      "133/133 [==============================] - 9s 66ms/step - loss: 0.3076 - accuracy: 0.8796 - val_loss: 1.0385e-04 - val_accuracy: 1.0000\n",
      "Epoch 21/100\n",
      "133/133 [==============================] - 9s 68ms/step - loss: 0.2650 - accuracy: 0.9150 - val_loss: 1.3291e-04 - val_accuracy: 1.0000\n",
      "Epoch 22/100\n",
      "133/133 [==============================] - 9s 67ms/step - loss: 0.1579 - accuracy: 0.9474 - val_loss: 8.7377e-05 - val_accuracy: 1.0000\n",
      "Epoch 23/100\n",
      "133/133 [==============================] - 9s 66ms/step - loss: 0.3069 - accuracy: 0.8909 - val_loss: 0.0165 - val_accuracy: 1.0000\n",
      "Epoch 24/100\n",
      "133/133 [==============================] - 9s 67ms/step - loss: 0.1877 - accuracy: 0.9322 - val_loss: 4.8042e-06 - val_accuracy: 1.0000\n",
      "Epoch 25/100\n",
      "133/133 [==============================] - 9s 67ms/step - loss: 0.1392 - accuracy: 0.9511 - val_loss: 3.2664e-06 - val_accuracy: 1.0000\n",
      "Epoch 26/100\n",
      "133/133 [==============================] - 9s 68ms/step - loss: 0.1768 - accuracy: 0.9481 - val_loss: 4.0234e-06 - val_accuracy: 1.0000\n",
      "Epoch 27/100\n",
      "133/133 [==============================] - 9s 67ms/step - loss: 0.1078 - accuracy: 0.9616 - val_loss: 3.1727e-05 - val_accuracy: 1.0000\n",
      "Epoch 28/100\n",
      "133/133 [==============================] - 9s 67ms/step - loss: 0.7503 - accuracy: 0.7842 - val_loss: 0.1681 - val_accuracy: 0.9000\n",
      "Epoch 29/100\n",
      "133/133 [==============================] - 9s 67ms/step - loss: 0.2990 - accuracy: 0.8938 - val_loss: 2.9836e-05 - val_accuracy: 1.0000\n",
      "Epoch 30/100\n",
      "133/133 [==============================] - 9s 67ms/step - loss: 0.1960 - accuracy: 0.9323 - val_loss: 5.4836e-07 - val_accuracy: 1.0000\n",
      "Epoch 31/100\n",
      "133/133 [==============================] - 9s 67ms/step - loss: 0.4868 - accuracy: 0.8662 - val_loss: 0.0061 - val_accuracy: 1.0000\n",
      "Epoch 32/100\n",
      "133/133 [==============================] - 9s 67ms/step - loss: 0.4603 - accuracy: 0.8569 - val_loss: 1.5282e-04 - val_accuracy: 1.0000\n",
      "Epoch 33/100\n",
      "133/133 [==============================] - 9s 67ms/step - loss: 0.2319 - accuracy: 0.9330 - val_loss: 1.5208e-04 - val_accuracy: 1.0000\n",
      "Epoch 34/100\n",
      "133/133 [==============================] - 9s 69ms/step - loss: 0.1991 - accuracy: 0.9383 - val_loss: 2.7249e-05 - val_accuracy: 1.0000\n",
      "Epoch 35/100\n",
      "133/133 [==============================] - 9s 68ms/step - loss: 0.1556 - accuracy: 0.9489 - val_loss: 2.8339e-05 - val_accuracy: 1.0000\n",
      "Epoch 36/100\n",
      "133/133 [==============================] - 9s 67ms/step - loss: 0.4578 - accuracy: 0.8517 - val_loss: 2.2979e-04 - val_accuracy: 1.0000\n",
      "Epoch 37/100\n",
      "133/133 [==============================] - 9s 68ms/step - loss: 0.2658 - accuracy: 0.9195 - val_loss: 3.2213e-04 - val_accuracy: 1.0000\n",
      "Epoch 38/100\n",
      "133/133 [==============================] - 9s 68ms/step - loss: 0.1816 - accuracy: 0.9459 - val_loss: 6.2193e-05 - val_accuracy: 1.0000\n",
      "Epoch 39/100\n",
      "133/133 [==============================] - 9s 67ms/step - loss: 0.1804 - accuracy: 0.9398 - val_loss: 4.0406e-04 - val_accuracy: 1.0000\n",
      "Epoch 40/100\n",
      "133/133 [==============================] - 9s 67ms/step - loss: 0.0989 - accuracy: 0.9699 - val_loss: 2.7392e-05 - val_accuracy: 1.0000\n",
      "Epoch 41/100\n",
      "133/133 [==============================] - 9s 67ms/step - loss: 0.0555 - accuracy: 0.9872 - val_loss: 3.7909e-06 - val_accuracy: 1.0000\n",
      "Epoch 42/100\n",
      "133/133 [==============================] - 9s 68ms/step - loss: 0.2665 - accuracy: 0.9450 - val_loss: 0.0529 - val_accuracy: 1.0000\n",
      "Epoch 43/100\n",
      "133/133 [==============================] - 9s 68ms/step - loss: 1.1347 - accuracy: 0.6659 - val_loss: 0.0306 - val_accuracy: 1.0000\n",
      "Epoch 44/100\n",
      "133/133 [==============================] - 9s 67ms/step - loss: 0.3396 - accuracy: 0.8969 - val_loss: 3.3379e-04 - val_accuracy: 1.0000\n",
      "Epoch 45/100\n",
      "133/133 [==============================] - 9s 67ms/step - loss: 0.1646 - accuracy: 0.9413 - val_loss: 1.2108e-04 - val_accuracy: 1.0000\n",
      "Epoch 46/100\n",
      "133/133 [==============================] - 9s 68ms/step - loss: 0.2832 - accuracy: 0.9142 - val_loss: 0.4069 - val_accuracy: 0.9000\n",
      "Epoch 47/100\n",
      "133/133 [==============================] - 9s 68ms/step - loss: 0.2506 - accuracy: 0.9481 - val_loss: 3.8124e-05 - val_accuracy: 1.0000\n",
      "Epoch 48/100\n",
      "133/133 [==============================] - 9s 67ms/step - loss: 0.2085 - accuracy: 0.9435 - val_loss: 4.5966e-05 - val_accuracy: 1.0000\n",
      "Epoch 49/100\n",
      "133/133 [==============================] - 9s 67ms/step - loss: 0.8869 - accuracy: 0.7788 - val_loss: 0.3011 - val_accuracy: 0.9000\n",
      "Epoch 50/100\n",
      "133/133 [==============================] - 9s 68ms/step - loss: 0.3350 - accuracy: 0.8842 - val_loss: 0.0144 - val_accuracy: 1.0000\n",
      "Epoch 51/100\n",
      "133/133 [==============================] - 9s 68ms/step - loss: 0.1793 - accuracy: 0.9473 - val_loss: 0.0029 - val_accuracy: 1.0000\n",
      "Epoch 52/100\n",
      "133/133 [==============================] - 9s 67ms/step - loss: 0.8284 - accuracy: 0.7615 - val_loss: 0.5285 - val_accuracy: 0.8000\n",
      "Epoch 53/100\n",
      "133/133 [==============================] - 9s 68ms/step - loss: 0.8530 - accuracy: 0.7271 - val_loss: 0.2349 - val_accuracy: 0.9000\n",
      "Epoch 54/100\n",
      "133/133 [==============================] - 9s 68ms/step - loss: 0.4977 - accuracy: 0.8261 - val_loss: 0.0215 - val_accuracy: 1.0000\n",
      "Epoch 55/100\n",
      "133/133 [==============================] - 9s 68ms/step - loss: 0.2666 - accuracy: 0.9316 - val_loss: 0.0028 - val_accuracy: 1.0000\n",
      "Epoch 56/100\n"
     ]
    },
    {
     "name": "stdout",
     "output_type": "stream",
     "text": [
      "133/133 [==============================] - 9s 67ms/step - loss: 0.2336 - accuracy: 0.9202 - val_loss: 1.1109e-04 - val_accuracy: 1.0000\n",
      "Epoch 57/100\n",
      "133/133 [==============================] - 9s 67ms/step - loss: 0.1514 - accuracy: 0.9495 - val_loss: 1.0491e-05 - val_accuracy: 1.0000\n",
      "Epoch 58/100\n",
      "133/133 [==============================] - 9s 68ms/step - loss: 0.1112 - accuracy: 0.9601 - val_loss: 5.2096e-06 - val_accuracy: 1.0000\n",
      "Epoch 59/100\n",
      "133/133 [==============================] - 9s 69ms/step - loss: 0.1738 - accuracy: 0.9503 - val_loss: 9.2153e-06 - val_accuracy: 1.0000\n",
      "Epoch 60/100\n",
      "133/133 [==============================] - 9s 67ms/step - loss: 0.1782 - accuracy: 0.9571 - val_loss: 2.0041e-05 - val_accuracy: 1.0000\n",
      "Epoch 61/100\n",
      "133/133 [==============================] - 9s 66ms/step - loss: 0.1690 - accuracy: 0.9481 - val_loss: 2.6051e-05 - val_accuracy: 1.0000\n",
      "Epoch 62/100\n",
      "133/133 [==============================] - 9s 68ms/step - loss: 0.1796 - accuracy: 0.9466 - val_loss: 1.3483e-05 - val_accuracy: 1.0000\n",
      "Epoch 63/100\n",
      "133/133 [==============================] - 9s 68ms/step - loss: 0.4825 - accuracy: 0.8871 - val_loss: 4.7566e-06 - val_accuracy: 1.0000\n",
      "Epoch 64/100\n",
      "133/133 [==============================] - 9s 67ms/step - loss: 0.1815 - accuracy: 0.9518 - val_loss: 1.2851e-05 - val_accuracy: 1.0000\n",
      "Epoch 65/100\n",
      "133/133 [==============================] - 9s 67ms/step - loss: 0.1722 - accuracy: 0.9602 - val_loss: 6.7579e-05 - val_accuracy: 1.0000\n",
      "Epoch 66/100\n",
      "133/133 [==============================] - 9s 68ms/step - loss: 0.1294 - accuracy: 0.9639 - val_loss: 4.5495e-05 - val_accuracy: 1.0000\n",
      "Epoch 67/100\n",
      "133/133 [==============================] - 9s 68ms/step - loss: 0.1339 - accuracy: 0.9631 - val_loss: 3.1894e-04 - val_accuracy: 1.0000\n",
      "Epoch 68/100\n",
      "133/133 [==============================] - 9s 67ms/step - loss: 0.1083 - accuracy: 0.9691 - val_loss: 3.9936e-06 - val_accuracy: 1.0000\n",
      "Epoch 69/100\n",
      "133/133 [==============================] - 9s 67ms/step - loss: 0.1534 - accuracy: 0.9564 - val_loss: 3.3498e-06 - val_accuracy: 1.0000\n",
      "Epoch 70/100\n",
      "133/133 [==============================] - 9s 68ms/step - loss: 0.1222 - accuracy: 0.9646 - val_loss: 2.3961e-06 - val_accuracy: 1.0000\n",
      "Epoch 71/100\n",
      "133/133 [==============================] - 9s 67ms/step - loss: 0.1743 - accuracy: 0.9526 - val_loss: 8.3271e-06 - val_accuracy: 1.0000\n",
      "Epoch 72/100\n",
      "133/133 [==============================] - 9s 67ms/step - loss: 0.1303 - accuracy: 0.9631 - val_loss: 7.7847e-06 - val_accuracy: 1.0000\n",
      "Epoch 73/100\n",
      "133/133 [==============================] - 9s 67ms/step - loss: 0.3252 - accuracy: 0.9271 - val_loss: 5.4928e-04 - val_accuracy: 1.0000\n",
      "Epoch 74/100\n",
      "133/133 [==============================] - 9s 68ms/step - loss: 0.2826 - accuracy: 0.9345 - val_loss: 3.4881e-05 - val_accuracy: 1.0000\n",
      "Epoch 75/100\n",
      "133/133 [==============================] - 9s 68ms/step - loss: 0.1638 - accuracy: 0.9549 - val_loss: 2.4928e-04 - val_accuracy: 1.0000\n",
      "Epoch 76/100\n",
      "133/133 [==============================] - 9s 67ms/step - loss: 0.7007 - accuracy: 0.8383 - val_loss: 0.2771 - val_accuracy: 0.8000\n",
      "Epoch 77/100\n",
      "133/133 [==============================] - 9s 68ms/step - loss: 0.3156 - accuracy: 0.9067 - val_loss: 2.4761e-04 - val_accuracy: 1.0000\n",
      "Epoch 78/100\n",
      "133/133 [==============================] - 9s 68ms/step - loss: 0.1670 - accuracy: 0.9503 - val_loss: 9.7960e-05 - val_accuracy: 1.0000\n",
      "Epoch 79/100\n",
      "133/133 [==============================] - 9s 68ms/step - loss: 0.3165 - accuracy: 0.9315 - val_loss: 2.5234e-05 - val_accuracy: 1.0000\n",
      "Epoch 80/100\n",
      "133/133 [==============================] - 9s 67ms/step - loss: 0.1109 - accuracy: 0.9669 - val_loss: 1.0467e-05 - val_accuracy: 1.0000\n",
      "Epoch 81/100\n",
      "133/133 [==============================] - 9s 66ms/step - loss: 0.1967 - accuracy: 0.9549 - val_loss: 8.0063e-05 - val_accuracy: 1.0000\n",
      "Epoch 82/100\n",
      "133/133 [==============================] - 9s 68ms/step - loss: 0.2846 - accuracy: 0.9473 - val_loss: 2.0385e-06 - val_accuracy: 1.0000\n",
      "Epoch 83/100\n",
      "133/133 [==============================] - 9s 67ms/step - loss: 0.2097 - accuracy: 0.9496 - val_loss: 3.8579e-04 - val_accuracy: 1.0000\n",
      "Epoch 84/100\n",
      "133/133 [==============================] - 9s 67ms/step - loss: 0.1805 - accuracy: 0.9541 - val_loss: 8.9530e-06 - val_accuracy: 1.0000\n",
      "Epoch 85/100\n",
      "133/133 [==============================] - 9s 67ms/step - loss: 0.5047 - accuracy: 0.9195 - val_loss: 1.6670e-04 - val_accuracy: 1.0000\n",
      "Epoch 86/100\n",
      "133/133 [==============================] - 9s 68ms/step - loss: 0.2231 - accuracy: 0.9368 - val_loss: 2.5955e-05 - val_accuracy: 1.0000\n",
      "Epoch 87/100\n",
      "133/133 [==============================] - 9s 68ms/step - loss: 0.1568 - accuracy: 0.9602 - val_loss: 8.2771e-05 - val_accuracy: 1.0000\n",
      "Epoch 88/100\n",
      "133/133 [==============================] - 9s 67ms/step - loss: 0.1241 - accuracy: 0.9707 - val_loss: 7.8383e-06 - val_accuracy: 1.0000\n",
      "Epoch 89/100\n",
      "133/133 [==============================] - 9s 68ms/step - loss: 0.6551 - accuracy: 0.8569 - val_loss: 0.0181 - val_accuracy: 1.0000\n",
      "Epoch 90/100\n",
      "133/133 [==============================] - 9s 67ms/step - loss: 0.3146 - accuracy: 0.9068 - val_loss: 4.7003e-05 - val_accuracy: 1.0000\n",
      "Epoch 91/100\n",
      "133/133 [==============================] - 9s 68ms/step - loss: 0.2260 - accuracy: 0.9436 - val_loss: 4.0506e-05 - val_accuracy: 1.0000\n",
      "Epoch 92/100\n",
      "133/133 [==============================] - 9s 67ms/step - loss: 0.1240 - accuracy: 0.9631 - val_loss: 1.2163e-04 - val_accuracy: 1.0000\n",
      "Epoch 93/100\n",
      "133/133 [==============================] - 9s 67ms/step - loss: 0.0982 - accuracy: 0.9714 - val_loss: 1.4467e-05 - val_accuracy: 1.0000\n",
      "Epoch 94/100\n",
      "133/133 [==============================] - 9s 68ms/step - loss: 0.1511 - accuracy: 0.9601 - val_loss: 9.4382e-05 - val_accuracy: 1.0000\n",
      "Epoch 95/100\n",
      "133/133 [==============================] - 9s 67ms/step - loss: 0.1589 - accuracy: 0.9549 - val_loss: 6.9859e-06 - val_accuracy: 1.0000\n",
      "Epoch 96/100\n",
      "133/133 [==============================] - 9s 67ms/step - loss: 0.0897 - accuracy: 0.9737 - val_loss: 2.6975e-05 - val_accuracy: 1.0000\n",
      "Epoch 97/100\n",
      "133/133 [==============================] - 9s 66ms/step - loss: 0.1114 - accuracy: 0.9684 - val_loss: 4.0770e-06 - val_accuracy: 1.0000\n",
      "Epoch 98/100\n",
      "133/133 [==============================] - 9s 67ms/step - loss: 0.1986 - accuracy: 0.9526 - val_loss: 3.7683e-05 - val_accuracy: 1.0000\n",
      "Epoch 99/100\n",
      "133/133 [==============================] - 9s 69ms/step - loss: 0.1167 - accuracy: 0.9722 - val_loss: 3.6479e-06 - val_accuracy: 1.0000\n",
      "Epoch 100/100\n",
      "133/133 [==============================] - 9s 67ms/step - loss: 0.1068 - accuracy: 0.9684 - val_loss: 5.1559e-06 - val_accuracy: 1.0000\n"
     ]
    }
   ],
   "source": [
    "epochs = 100\n",
    "#因为数据是generator 产生的 所以不能用fit函数\n",
    "history = model.fit_generator(train_generator, steps_per_epoch=train_num // batch_size,\n",
    "                             epochs=epochs, validation_data=valid_generator,\n",
    "                             validation_steps=valid_num//batch_size)"
   ]
  },
  {
   "cell_type": "code",
   "execution_count": 24,
   "metadata": {},
   "outputs": [],
   "source": [
    "def plot_learning_curves(history, label, epochs, min_value, max_value):\n",
    "    data = {}\n",
    "    data[label] = history.history[label]\n",
    "    data['val_'+label] = history.history['val_' + label]\n",
    "    \n",
    "    pd.DataFrame(data).plot(figsize = (8,5))\n",
    "    plt.grid(True)\n",
    "    plt.axis([0, epochs, min_value, max_value])\n",
    "    plt.show()"
   ]
  },
  {
   "cell_type": "code",
   "execution_count": 25,
   "metadata": {},
   "outputs": [
    {
     "data": {
      "image/png": "[encoded data removed]",
      "text/plain": [
       "<Figure size 576x360 with 1 Axes>"
      ]
     },
     "metadata": {
      "needs_background": "light"
     },
     "output_type": "display_data"
    }
   ],
   "source": [
    "plot_learning_curves(history, 'accuracy', epochs, 0, 1)"
   ]
  },
  {
   "cell_type": "code",
   "execution_count": 26,
   "metadata": {},
   "outputs": [
    {
     "data": {
      "image/png": "[encoded data removed]",
      "text/plain": [
       "<Figure size 576x360 with 1 Axes>"
      ]
     },
     "metadata": {
      "needs_background": "light"
     },
     "output_type": "display_data"
    }
   ],
   "source": [
    "plot_learning_curves(history, 'loss', epochs, 0, 2)"
   ]
  },
  {
   "cell_type": "code",
   "execution_count": 33,
   "metadata": {},
   "outputs": [],
   "source": [
    "def load_and_preprocess_single_img(path):\n",
    "    # read the img through file path\n",
    "    image = tf.io.read_file(path)  \n",
    "    image = tf.image.decode_jpeg(image, channels=3)\n",
    "    # 原始图片大小为(139, 128, 3)，重设为(139,128)\n",
    "    image = tf.image.resize(image, [139, 128])  \n",
    "    image = tf.cast(image, tf.float32) / 255.0  # 归一化到[0,1]范围\n",
    "    image = np.expand_dims(image, axis = 0) # since you have batch_size, so you need to expand your image\n",
    "    return image"
   ]
  },
  {
   "cell_type": "code",
   "execution_count": 34,
   "metadata": {},
   "outputs": [],
   "source": [
    "def evaluate_single_pic(path, show=False):\n",
    "    \n",
    "    if show:\n",
    "        import matplotlib.image as mpimg\n",
    "        plt.imshow(mpimg.imread(path))\n",
    "    image = load_and_preprocess_single_img(path)\n",
    "    predict_result = model.predict(image)\n",
    "    print(\"This is\", label_names[np.argmax(predict_result, axis=1)[0]])"
   ]
  },
  {
   "cell_type": "code",
   "execution_count": 27,
   "metadata": {},
   "outputs": [],
   "source": [
    "model.save_weights('./checkpoints/my_checkpoint')"
   ]
  },
  {
   "cell_type": "code",
   "execution_count": 28,
   "metadata": {},
   "outputs": [],
   "source": [
    "model.save('./coin_recognition_model.h5')"
   ]
  },
  {
   "cell_type": "code",
   "execution_count": 36,
   "metadata": {},
   "outputs": [
    {
     "name": "stdout",
     "output_type": "stream",
     "text": [
      "This is eth\n"
     ]
    },
    {
     "data": {
      "image/png": "[encoded data removed]",
      "text/plain": [
       "<Figure size 432x288 with 1 Axes>"
      ]
     },
     "metadata": {
      "needs_background": "light"
     },
     "output_type": "display_data"
    }
   ],
   "source": [
    "test_pic_path2 = \"./test/tt3.png\"\n",
    "evaluate_single_pic(test_pic_path2, True)"
   ]
  },
  {
   "cell_type": "code",
   "execution_count": null,
   "metadata": {},
   "outputs": [],
   "source": []
  }
 ],
 "metadata": {
  "kernelspec": {
   "display_name": "TensorFlow-GPU",
   "language": "python",
   "name": "tf2_gpu"
  },
  "language_info": {
   "codemirror_mode": {
    "name": "ipython",
    "version": 3
   },
   "file_extension": ".py",
   "mimetype": "text/x-python",
   "name": "python",
   "nbconvert_exporter": "python",
   "pygments_lexer": "ipython3",
   "version": "3.7.5"
  }
 },
 "nbformat": 4,
 "nbformat_minor": 2
}
